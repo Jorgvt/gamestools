{
 "cells": [
  {
   "cell_type": "markdown",
   "metadata": {},
   "source": [
    "# Turn-Based\n",
    "\n",
    "> Here we will define useful tools to create turn-based games."
   ]
  },
  {
   "cell_type": "code",
   "execution_count": 3,
   "metadata": {},
   "outputs": [],
   "source": [
    "#| default_exp turnbased"
   ]
  },
  {
   "cell_type": "code",
   "execution_count": 4,
   "metadata": {},
   "outputs": [
    {
     "name": "stdout",
     "output_type": "stream",
     "text": [
      "The autoreload extension is already loaded. To reload it, use:\n",
      "  %reload_ext autoreload\n"
     ]
    }
   ],
   "source": [
    "#| hide\n",
    "%load_ext autoreload\n",
    "%autoreload 2\n",
    "from nbdev.showdoc import *"
   ]
  },
  {
   "cell_type": "code",
   "execution_count": 5,
   "metadata": {},
   "outputs": [],
   "source": [
    "#| hide\n",
    "#| export\n",
    "from abc import ABC, abstractmethod\n",
    "from itertools import cycle"
   ]
  },
  {
   "cell_type": "code",
   "execution_count": 6,
   "metadata": {},
   "outputs": [],
   "source": [
    "#| export\n",
    "\n",
    "class TurnBasedGame(ABC):\n",
    "    \"\"\"\n",
    "    Base class for when creating turn-based games.\n",
    "    Implements some basic functionality to control the current player\n",
    "    and the representation of the boards.\n",
    "    \"\"\"\n",
    "    def __init__(self,\n",
    "                 n_players, # Number of players\n",
    "                ):\n",
    "        self.n_players = n_players\n",
    "        self.current_player = self.choose_initial_player()\n",
    "        self._players = cycle(range(n_players))\n",
    "    \n",
    "    def __repr__(self):\n",
    "        \"\"\"\n",
    "        Representation of the game state (currently only for two players\n",
    "        with one board each).\n",
    "        The current player is marked with an *.\n",
    "        \"\"\"\n",
    "        player0 = \"Player 1 *\" if self.current_player==0 else \"Player 1\"\n",
    "        player1= \"Player 2 *\" if self.current_player==1 else \"Player 2\"\n",
    "        \n",
    "        return \"\\n\".join([player0,\n",
    "                          str(self.boards[0]),\n",
    "                          player1,\n",
    "                          str(self.boards[1])])\n",
    "\n",
    "    def _change_player(self):\n",
    "        \"\"\"\n",
    "        Changes the current player to the next.\n",
    "        \"\"\"\n",
    "        self.current_player = next(self._players)"
   ]
  },
  {
   "cell_type": "code",
   "execution_count": 7,
   "metadata": {},
   "outputs": [],
   "source": [
    "#| hide\n",
    "import nbdev; nbdev.nbdev_export()"
   ]
  }
 ],
 "metadata": {
  "kernelspec": {
   "display_name": "Python 3.8.13 ('gpu')",
   "language": "python",
   "name": "python3"
  },
  "language_info": {
   "codemirror_mode": {
    "name": "ipython",
    "version": 3
   },
   "file_extension": ".py",
   "mimetype": "text/x-python",
   "name": "python",
   "nbconvert_exporter": "python",
   "pygments_lexer": "ipython3",
   "version": "3.8.13"
  },
  "vscode": {
   "interpreter": {
    "hash": "cff0dde065af36cd4d642bf9a8fef2a53dd9d3cdc41d78beed47cb37a6fa76a1"
   }
  }
 },
 "nbformat": 4,
 "nbformat_minor": 4
}
